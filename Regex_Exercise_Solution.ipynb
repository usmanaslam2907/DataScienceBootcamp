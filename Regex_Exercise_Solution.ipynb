{
  "cells": [
    {
      "cell_type": "markdown",
      "id": "1940c91d",
      "metadata": {
        "id": "1940c91d"
      },
      "source": [
        "### Questions 1\n",
        "\n",
        "Write a Python program to check that a string contains only a certain set of characters (in this case a-z, A-Z and 0-9)."
      ]
    },
    {
      "cell_type": "code",
      "execution_count": 17,
      "id": "fb788c99",
      "metadata": {
        "colab": {
          "base_uri": "https://localhost:8080/"
        },
        "id": "fb788c99",
        "outputId": "8e412afb-3a95-4ee5-ff6a-233d44cd74e6"
      },
      "outputs": [
        {
          "output_type": "stream",
          "name": "stdout",
          "text": [
            "<re.Match object; span=(0, 15), match='usman 123 Wains'>\n"
          ]
        }
      ],
      "source": [
        "import re\n",
        "string=\"usman 123 Wains\"\n",
        "pattern=re.compile(r'^[a-zA-Z0-9 ]+$')\n",
        "result=re.search(pattern,string)\n",
        "print(result)"
      ]
    },
    {
      "cell_type": "markdown",
      "id": "36b773c3",
      "metadata": {
        "id": "36b773c3"
      },
      "source": [
        "### Question 2\n",
        "\n",
        "Write a Python program that matches a string that has an a followed by zero or more b's."
      ]
    },
    {
      "cell_type": "code",
      "execution_count": 34,
      "id": "a552493a",
      "metadata": {
        "colab": {
          "base_uri": "https://localhost:8080/"
        },
        "id": "a552493a",
        "outputId": "38db3713-7ff2-43d8-83ee-dc0dc2cce74d"
      },
      "outputs": [
        {
          "output_type": "stream",
          "name": "stdout",
          "text": [
            "['abb', 'a', 'abbb']\n"
          ]
        }
      ],
      "source": [
        "string=\"b abb bbb aeb 56 b abbb 5\"\n",
        "result=re.findall('ab*',string)\n",
        "print(result)\n"
      ]
    },
    {
      "cell_type": "markdown",
      "id": "673d61a9",
      "metadata": {
        "id": "673d61a9"
      },
      "source": [
        "### Question 3\n",
        "\n",
        "Write a Python program that matches a string that has an a followed by one or more b's."
      ]
    },
    {
      "cell_type": "code",
      "execution_count": 40,
      "id": "7e0fb77a",
      "metadata": {
        "colab": {
          "base_uri": "https://localhost:8080/"
        },
        "id": "7e0fb77a",
        "outputId": "df340f5e-d946-4864-bddc-f0f17a4a82b4"
      },
      "outputs": [
        {
          "output_type": "stream",
          "name": "stdout",
          "text": [
            "['ab', 'abb', 'ab', 'ab', 'abb']\n"
          ]
        }
      ],
      "source": [
        "import re\n",
        "string=\"a b ab abb aba ab abb aa\"\n",
        "result=re.findall('abb*',string)\n",
        "print(result)"
      ]
    },
    {
      "cell_type": "markdown",
      "id": "8494f5a8",
      "metadata": {
        "id": "8494f5a8"
      },
      "source": [
        "### Question 4\n",
        "Write a Python program that matches a string that has an a followed by zero or one 'b'."
      ]
    },
    {
      "cell_type": "code",
      "execution_count": 49,
      "id": "df4a9688",
      "metadata": {
        "colab": {
          "base_uri": "https://localhost:8080/"
        },
        "id": "df4a9688",
        "outputId": "28c9d33d-a9c9-4a97-cab5-8ad4f3fac3e8"
      },
      "outputs": [
        {
          "output_type": "stream",
          "name": "stdout",
          "text": [
            "['a', 'ab', 'ab', 'a', 'ab', 'a', 'a', 'ab']\n"
          ]
        }
      ],
      "source": [
        "import re\n",
        "string = 'a ab abb aab ba a abbbb'\n",
        "result=re.findall('ab?',string)\n",
        "print(result)"
      ]
    },
    {
      "cell_type": "markdown",
      "id": "cb6b8dc8",
      "metadata": {
        "id": "cb6b8dc8"
      },
      "source": [
        "### Question 5\n",
        "Write a Python program to find sequences of lowercase letters joined by an underscore."
      ]
    },
    {
      "cell_type": "code",
      "execution_count": 58,
      "id": "fcf95464",
      "metadata": {
        "colab": {
          "base_uri": "https://localhost:8080/"
        },
        "id": "fcf95464",
        "outputId": "4b521d80-9c6a-4b85-c4e6-6f586c4759e4"
      },
      "outputs": [
        {
          "output_type": "stream",
          "name": "stdout",
          "text": [
            "['hj_hash']\n"
          ]
        }
      ],
      "source": [
        "import re\n",
        "string =\"Abs ABC YH hj_hash abC usman Wains WA kk\"\n",
        "result=re.findall('[a-z]+_[a-z]+',string)\n",
        "print(result)"
      ]
    },
    {
      "cell_type": "markdown",
      "id": "3f07cde8",
      "metadata": {
        "id": "3f07cde8"
      },
      "source": [
        "### Question 6\n",
        "Write a Python program that matches a word at the beginning of a string."
      ]
    },
    {
      "cell_type": "code",
      "execution_count": 80,
      "id": "f7b852af",
      "metadata": {
        "colab": {
          "base_uri": "https://localhost:8080/"
        },
        "id": "f7b852af",
        "outputId": "5177af3e-9c34-4e4f-8f35-ed62c53f1af8"
      },
      "outputs": [
        {
          "output_type": "stream",
          "name": "stdout",
          "text": [
            "<re.Match object; span=(0, 5), match='usman'>\n"
          ]
        }
      ],
      "source": [
        "import re\n",
        "string =\"usman is back from lahore \"\n",
        "result=re.search(r'^\\w+',string)\n",
        "print(result)\n"
      ]
    },
    {
      "cell_type": "markdown",
      "id": "170c8d78",
      "metadata": {
        "id": "170c8d78"
      },
      "source": [
        "### Question 7\n",
        "Write a Python program that matches a word containing 'z'."
      ]
    },
    {
      "cell_type": "code",
      "execution_count": 111,
      "id": "c5c796b8",
      "metadata": {
        "colab": {
          "base_uri": "https://localhost:8080/"
        },
        "id": "c5c796b8",
        "outputId": "41a3e6c2-e2a8-4f4f-b591-6964248d285d"
      },
      "outputs": [
        {
          "output_type": "stream",
          "name": "stdout",
          "text": [
            "['lazy', 'z', 'zz', 'hazy', 'amazing']\n"
          ]
        }
      ],
      "source": [
        "import re\n",
        "string=\"The lazy dog jumps over the z zz hazy fence. Zebras are amazing.\"\n",
        "result=re.findall(r'\\b\\w*z\\w*\\b',string)\n",
        "print(result)"
      ]
    },
    {
      "cell_type": "markdown",
      "id": "c2d89556",
      "metadata": {
        "id": "c2d89556"
      },
      "source": [
        "### Question 8\n",
        "Write a Python program to match a string that contains only upper and lowercase letters, numbers, and underscores."
      ]
    },
    {
      "cell_type": "code",
      "execution_count": 126,
      "id": "a1958601",
      "metadata": {
        "colab": {
          "base_uri": "https://localhost:8080/"
        },
        "id": "a1958601",
        "outputId": "2b179760-648e-4676-aae1-244f1694bb95"
      },
      "outputs": [
        {
          "output_type": "stream",
          "name": "stdout",
          "text": [
            "['ABab_12', 'us', 'Ma', 'na', '23swdsA', '_12Us']\n"
          ]
        }
      ],
      "source": [
        "\n",
        "string = \"ABab_12 us Ma na 23swdsA _12Us\"\n",
        "result = re.findall(r'[a-zA-Z0-9_]+', string)\n",
        "\n",
        "print(result)\n"
      ]
    },
    {
      "cell_type": "markdown",
      "id": "c476a75a",
      "metadata": {
        "id": "c476a75a"
      },
      "source": [
        "### Question 9\n",
        "Write a Python program to search for literal strings within a string.<br>\n",
        "Sample text : 'The quick brown fox jumps over the lazy dog.'<br>\n",
        "Searched words : 'fox', 'dog', 'horse'<br>"
      ]
    },
    {
      "cell_type": "code",
      "execution_count": 131,
      "id": "62fdfa6c",
      "metadata": {
        "colab": {
          "base_uri": "https://localhost:8080/"
        },
        "id": "62fdfa6c",
        "outputId": "9d3d3c59-91cf-45d9-92a0-d6d95180d9ce"
      },
      "outputs": [
        {
          "output_type": "stream",
          "name": "stdout",
          "text": [
            "Found words: ['fox', 'dog']\n"
          ]
        }
      ],
      "source": [
        "import re\n",
        "\n",
        "def search_literals_regex(text, words):\n",
        "    found_words = []\n",
        "    for word in words:\n",
        "        pattern = re.compile(re.escape(word))\n",
        "        match = pattern.search(text)\n",
        "\n",
        "        if match:\n",
        "            found_words.append(word)\n",
        "\n",
        "    return found_words\n",
        "\n",
        "sample_text = 'The quick brown fox jumps over the lazy dog.'\n",
        "searched_words = ['fox', 'dog', 'horse']\n",
        "\n",
        "result = search_literals_regex(sample_text, searched_words)\n",
        "\n",
        "if result:\n",
        "    print(f\"Found words: {result}\")\n",
        "else:\n",
        "    print(\"No matching words found.\")\n"
      ]
    },
    {
      "cell_type": "markdown",
      "id": "5da7e932",
      "metadata": {
        "id": "5da7e932"
      },
      "source": [
        "### Question 10\n",
        "Write a Python program to search for a literal string in a string and also find the location within the original string where the pattern occurs.<br>\n",
        "\n",
        "Sample text : 'The quick brown fox jumps over the lazy dog.'<br>\n",
        "Searched words : 'fox'<br>\n",
        "\n"
      ]
    },
    {
      "cell_type": "code",
      "execution_count": 132,
      "id": "a540ad56",
      "metadata": {
        "colab": {
          "base_uri": "https://localhost:8080/"
        },
        "id": "a540ad56",
        "outputId": "0f7d3d8f-b248-4ac2-cb66-d729ff1a9c88"
      },
      "outputs": [
        {
          "output_type": "stream",
          "name": "stdout",
          "text": [
            "The word 'fox' is found in the text at positions 16-19.\n"
          ]
        }
      ],
      "source": [
        "import re\n",
        "\n",
        "def search_literal_with_location(text, word):\n",
        "    pattern = re.compile(re.escape(word))\n",
        "    match = pattern.search(text)\n",
        "\n",
        "    if match:\n",
        "        start_location = match.start()\n",
        "        end_location = match.end()\n",
        "        return start_location, end_location\n",
        "    else:\n",
        "        return None\n",
        "\n",
        "sample_text = 'The quick brown fox jumps over the lazy dog.'\n",
        "searched_word = 'fox'\n",
        "\n",
        "result = search_literal_with_location(sample_text, searched_word)\n",
        "\n",
        "if result:\n",
        "    start, end = result\n",
        "    print(f\"The word '{searched_word}' is found in the text at positions {start}-{end}.\")\n",
        "else:\n",
        "    print(f\"The word '{searched_word}' is not found in the text.\")\n"
      ]
    },
    {
      "cell_type": "markdown",
      "id": "3c788609",
      "metadata": {
        "id": "3c788609"
      },
      "source": [
        "### Question 11\n",
        "Write a Python program that checks whether a word starts and ends with a vowel in a given string. Return true if a word matches the condition; otherwise, return false.<br>\n",
        "Sample Data:<br>\n",
        "(\"Red Orange White\") -> True<br>\n",
        "(\"Red White Black\") -> False<br>\n",
        "(\"abcd dkise eosksu\") -> True<br>"
      ]
    },
    {
      "cell_type": "code",
      "execution_count": 133,
      "id": "6a5c8575",
      "metadata": {
        "colab": {
          "base_uri": "https://localhost:8080/"
        },
        "id": "6a5c8575",
        "outputId": "26690784-c732-4d1a-f554-d79796c96ef3"
      },
      "outputs": [
        {
          "output_type": "stream",
          "name": "stdout",
          "text": [
            "True\n",
            "False\n",
            "True\n"
          ]
        }
      ],
      "source": [
        "def starts_and_ends_with_vowel(word):\n",
        "    vowels = \"aeiouAEIOU\"\n",
        "    return word[0] in vowels and word[-1] in vowels\n",
        "\n",
        "def check_words_condition(sentence):\n",
        "    words = sentence.split()\n",
        "    return [starts_and_ends_with_vowel(word) for word in words]\n",
        "\n",
        "\n",
        "sample_data_1 = \"Red Orange White\"\n",
        "result_1 = any(check_words_condition(sample_data_1))\n",
        "print(result_1)\n",
        "\n",
        "sample_data_2 = \"Red White Black\"\n",
        "result_2 = any(check_words_condition(sample_data_2))\n",
        "print(result_2)\n",
        "\n",
        "sample_data_3 = \"abcd dkise eosksu\"\n",
        "result_3 = any(check_words_condition(sample_data_3))\n",
        "print(result_3)\n"
      ]
    },
    {
      "cell_type": "markdown",
      "id": "9bc8c2bb",
      "metadata": {
        "id": "9bc8c2bb"
      },
      "source": [
        "### Question 12\n",
        "Write a Python program that takes a string with some words. For two consecutive words in the said string, check whether the first word ends with a vowel and the next word begins with a vowel. If the program meets the condition, return true, otherwise false. Only one space is allowed between the words.<br>\n",
        "Sample Data:<br>\n",
        "(\"These exercises can be used for practice.\") -> True<br>\n",
        "(\"Following exercises should be removed for practice.\") -> False<br>\n",
        "(\"I use these stories in my classroom.\") -> True<br>"
      ]
    },
    {
      "cell_type": "code",
      "execution_count": 134,
      "id": "3b5f1d7b",
      "metadata": {
        "colab": {
          "base_uri": "https://localhost:8080/"
        },
        "id": "3b5f1d7b",
        "outputId": "ae96f2be-211d-42de-cbe7-b739147ca72c"
      },
      "outputs": [
        {
          "output_type": "stream",
          "name": "stdout",
          "text": [
            "True\n",
            "False\n",
            "True\n"
          ]
        }
      ],
      "source": [
        "def check_consecutive_vowels(words):\n",
        "    words_list = words.split()\n",
        "\n",
        "    for i in range(len(words_list) - 1):\n",
        "        current_word = words_list[i]\n",
        "        next_word = words_list[i + 1]\n",
        "\n",
        "\n",
        "        if current_word[-1].lower() in \"aeiou\" and next_word[0].lower() in \"aeiou\":\n",
        "            return True\n",
        "\n",
        "    return False\n",
        "\n",
        "#\n",
        "sample_data_1 = \"These exercises can be used for practice.\"\n",
        "result_1 = check_consecutive_vowels(sample_data_1)\n",
        "print(result_1)\n",
        "\n",
        "sample_data_2 = \"Following exercises should be removed for practice.\"\n",
        "result_2 = check_consecutive_vowels(sample_data_2)\n",
        "print(result_2)\n",
        "\n",
        "sample_data_3 = \"I use these stories in my classroom.\"\n",
        "result_3 = check_consecutive_vowels(sample_data_3)\n",
        "print(result_3)\n"
      ]
    }
  ],
  "metadata": {
    "kernelspec": {
      "display_name": "Python 3 (ipykernel)",
      "language": "python",
      "name": "python3"
    },
    "language_info": {
      "codemirror_mode": {
        "name": "ipython",
        "version": 3
      },
      "file_extension": ".py",
      "mimetype": "text/x-python",
      "name": "python",
      "nbconvert_exporter": "python",
      "pygments_lexer": "ipython3",
      "version": "3.10.9"
    },
    "colab": {
      "provenance": []
    }
  },
  "nbformat": 4,
  "nbformat_minor": 5
}